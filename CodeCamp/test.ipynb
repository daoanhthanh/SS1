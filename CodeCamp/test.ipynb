{
 "metadata": {
  "language_info": {
   "codemirror_mode": {
    "name": "ipython",
    "version": 3
   },
   "file_extension": ".py",
   "mimetype": "text/x-python",
   "name": "python",
   "nbconvert_exporter": "python",
   "pygments_lexer": "ipython3",
   "version": "3.8.6-final"
  },
  "orig_nbformat": 2,
  "kernelspec": {
   "name": "Python 3.8.6 64-bit",
   "display_name": "Python 3.8.6 64-bit",
   "metadata": {
    "interpreter": {
     "hash": "d060b358b4ace148aa35037a5c92634cea33c6cf8b997e0d2cd9c6ae31273d95"
    }
   }
  }
 },
 "nbformat": 4,
 "nbformat_minor": 2,
 "cells": [
  {
   "source": [
    "# Python 3 program for the \n",
    "# haversine formula \n",
    "import math \n",
    "\n",
    "# Python 3 program for the \n",
    "# haversine formula \n",
    "def haversine(lat1, lon1, lat2, lon2): \n",
    "\t\n",
    "\t# distance between latitudes \n",
    "\t# and longitudes \n",
    "\tdLat = (lat2 - lat1) * math.pi / 180.0\n",
    "\tdLon = (lon2 - lon1) * math.pi / 180.0\n",
    "\n",
    "\t# convert to radians \n",
    "\tlat1 = (lat1) * math.pi / 180.0\n",
    "\tlat2 = (lat2) * math.pi / 180.0\n",
    "\n",
    "\t# apply formulae \n",
    "\ta = (pow(math.sin(dLat / 2), 2) +\n",
    "\t\tpow(math.sin(dLon / 2), 2) *\n",
    "\t\t\tmath.cos(lat1) * math.cos(lat2)); \n",
    "\trad = 6371\n",
    "\tc = 2 * math.asin(math.sqrt(a)) \n",
    "\treturn rad * c \n",
    "\n",
    "# Driver code \n",
    "if __name__ == \"__main__\": \n",
    "\tlat1 = 51.5007\n",
    "\tlon1 = 0.1246\n",
    "\tlat2 = 40.6892\n",
    "\tlon2 = 74.0445\n",
    "\t\n",
    "\tprint(haversine(lat1, lon1,lat2, lon2), \"K.M.\") \n",
    "\n",
    "# This code is contributed \n",
    "# by ChitraNayal \n"
   ],
   "cell_type": "code",
   "metadata": {},
   "execution_count": 1,
   "outputs": [
    {
     "output_type": "stream",
     "name": "stdout",
     "text": [
      "5574.840456848555 K.M.\n"
     ]
    }
   ]
  },
  {
   "cell_type": "code",
   "execution_count": null,
   "metadata": {},
   "outputs": [],
   "source": []
  }
 ]
}